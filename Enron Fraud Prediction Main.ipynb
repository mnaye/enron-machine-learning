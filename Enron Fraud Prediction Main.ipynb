{
 "cells": [
  {
   "cell_type": "markdown",
   "metadata": {},
   "source": [
    "# 1. Introduction"
   ]
  },
  {
   "cell_type": "markdown",
   "metadata": {},
   "source": [
    "Project: Enron Fraud Prediction\n",
    "\n",
    "Author: Mai Aye\n",
    "\n",
    "This IPython Notebook explores Enron's data set and then identifies persons of interest (POI's) for fraud using machine learning algorithms.  The data set is provided by Udacity as part of the Data Analyst Nanodegree program.  "
   ]
  },
  {
   "cell_type": "markdown",
   "metadata": {},
   "source": [
    "The Enron data set contains 146 records.  Each record consists of a POI or a non-POI and his or her financial and email information.  I will use precision/recall to evaluate the performances of machine learning models used to predict POI's. Recall is a metric that indicates how many POI's are correctly flagged as POI's by the models, while precision entails the probability of POI's being actually POI's when the models flag them as POI's.  Because we want to be able to flag all POI's for further investigation, a model with the highest recall for the POI's would be the most ideal.  I will use logistic regression and random forest classifiers and tune their respective parameters to best predict POI's.  "
   ]
  },
  {
   "cell_type": "code",
   "execution_count": 16,
   "metadata": {
    "collapsed": false
   },
   "outputs": [],
   "source": [
    "#importing necessary modules and libraries\n",
    "import sys\n",
    "import pickle\n",
    "import pandas as pd\n",
    "import numpy as np\n",
    "from sklearn.model_selection import train_test_split\n",
    "\n",
    "import matplotlib.pyplot as plt\n",
    "import seaborn as sns\n",
    "import warnings\n",
    "warnings.filterwarnings(\"ignore\")\n",
    "\n",
    "from clean_data import *\n",
    "from visualize import *\n",
    "from build_model import *\n",
    "from tester import *\n",
    "import matplotlib.pyplot as plt"
   ]
  },
  {
   "cell_type": "markdown",
   "metadata": {},
   "source": [
    "# 2. Data Cleaning and Exploration\n"
   ]
  },
  {
   "cell_type": "code",
   "execution_count": 2,
   "metadata": {
    "collapsed": false
   },
   "outputs": [],
   "source": [
    "#Load the dictionary containing the dataset\n",
    "with open(\"final_project_dataset.pkl\", \"r\") as data_file:\n",
    "    data_dict = pickle.load(data_file)\n",
    "\n",
    "#Transform dictionary into pandas\n",
    "data = pd.DataFrame.from_dict(data_dict, orient = \"index\")\n",
    "\n",
    "#Setting index name of pandas data frame to POI's name\n",
    "data.index.name = \"Name\"\n",
    "\n",
    "#remove irrelevant fields like emails\n",
    "data.drop([\"email_address\"], inplace=True,axis=1)\n",
    "\n",
    "#convert columns from objects to float\n",
    "for col in data.columns:\n",
    "    if data[col].dtype == object:\n",
    "        data[col] = data[col].astype(\"float64\")\n",
    "        \n"
   ]
  },
  {
   "cell_type": "markdown",
   "metadata": {},
   "source": [
    "Before imputing for missing values in each feature, we must look at each record or row to determine if there are any POI's with little to no financial and/or email data.  "
   ]
  },
  {
   "cell_type": "code",
   "execution_count": 3,
   "metadata": {
    "collapsed": false
   },
   "outputs": [
    {
     "name": "stdout",
     "output_type": "stream",
     "text": [
      "9.0\n"
     ]
    }
   ],
   "source": [
    "#Getting the median number of missing values in rows \n",
    "med = np.median(data.isnull().sum(axis = 1).tolist())\n",
    "print med\n",
    "\n",
    "#Add a column to data frame that keeps track of the number of missing values in each row\n",
    "data[\"missing_num\"] = data.isnull().sum(axis = 1)\n"
   ]
  },
  {
   "cell_type": "markdown",
   "metadata": {},
   "source": [
    "The median number of missing values for the rows in the data set is 9. Let's look at data where the number of missing values in rows greatly exceeds the median."
   ]
  },
  {
   "cell_type": "code",
   "execution_count": 4,
   "metadata": {
    "collapsed": false
   },
   "outputs": [
    {
     "name": "stdout",
     "output_type": "stream",
     "text": [
      "Number of columns is:  21\n",
      "Total number of records:  146\n",
      "Total number of records exceeding the median number of missing values:  68\n"
     ]
    }
   ],
   "source": [
    "print \"Number of columns is: \", len(data.columns)\n",
    "print \"Total number of records: \", len(data) \n",
    "print \"Total number of records exceeding the median number of missing values: \",len(data.loc[data[\"missing_num\"] > med])"
   ]
  },
  {
   "cell_type": "markdown",
   "metadata": {},
   "source": [
    "We have a small data set so we cannot remove all 68 records with missing values. Let's look for POI's who have little to no records.I set the maximum number of missing records to 15.   "
   ]
  },
  {
   "cell_type": "code",
   "execution_count": 5,
   "metadata": {
    "collapsed": false
   },
   "outputs": [
    {
     "name": "stdout",
     "output_type": "stream",
     "text": [
      "CHRISTODOULOU DIOMEDES\n",
      "CLINE KENNETH W\n",
      "GILLIS JOHN\n",
      "GRAMM WENDY L\n",
      "LOCKHART EUGENE E\n",
      "SAVAGE FRANK\n",
      "SCRIMSHAW MATTHEW\n",
      "THE TRAVEL AGENCY IN THE PARK\n",
      "WAKEHAM JOHN\n",
      "WHALEY DAVID A\n",
      "WODRASKA JOHN\n",
      "WROBEL BRUCE\n"
     ]
    }
   ],
   "source": [
    "for i in data[data[\"missing_num\"] >15].index.tolist():\n",
    "    print i\n"
   ]
  },
  {
   "cell_type": "code",
   "execution_count": 6,
   "metadata": {
    "collapsed": false
   },
   "outputs": [
    {
     "name": "stdout",
     "output_type": "stream",
     "text": [
      "----------------------------------------------------\n",
      "('CHRISTODOULOU DIOMEDES', salary                               NaN\n",
      "to_messages                          NaN\n",
      "deferral_payments                    NaN\n",
      "total_payments                       NaN\n",
      "exercised_stock_options      5.12716e+06\n",
      "bonus                                NaN\n",
      "restricted_stock                  950730\n",
      "shared_receipt_with_poi              NaN\n",
      "restricted_stock_deferred            NaN\n",
      "total_stock_value            6.07788e+06\n",
      "expenses                             NaN\n",
      "loan_advances                        NaN\n",
      "from_messages                        NaN\n",
      "other                                NaN\n",
      "from_this_person_to_poi              NaN\n",
      "poi                                False\n",
      "director_fees                        NaN\n",
      "deferred_income                      NaN\n",
      "long_term_incentive                  NaN\n",
      "from_poi_to_this_person              NaN\n",
      "missing_num                           16\n",
      "Name: CHRISTODOULOU DIOMEDES, dtype: object)\n",
      "----------------------------------------------------\n",
      "('CLINE KENNETH W', salary                          NaN\n",
      "to_messages                     NaN\n",
      "deferral_payments               NaN\n",
      "total_payments                  NaN\n",
      "exercised_stock_options         NaN\n",
      "bonus                           NaN\n",
      "restricted_stock             662086\n",
      "shared_receipt_with_poi         NaN\n",
      "restricted_stock_deferred   -472568\n",
      "total_stock_value            189518\n",
      "expenses                        NaN\n",
      "loan_advances                   NaN\n",
      "from_messages                   NaN\n",
      "other                           NaN\n",
      "from_this_person_to_poi         NaN\n",
      "poi                           False\n",
      "director_fees                   NaN\n",
      "deferred_income                 NaN\n",
      "long_term_incentive             NaN\n",
      "from_poi_to_this_person         NaN\n",
      "missing_num                      16\n",
      "Name: CLINE KENNETH W, dtype: object)\n",
      "----------------------------------------------------\n",
      "('GILLIS JOHN', salary                         NaN\n",
      "to_messages                    NaN\n",
      "deferral_payments              NaN\n",
      "total_payments                 NaN\n",
      "exercised_stock_options       9803\n",
      "bonus                          NaN\n",
      "restricted_stock             75838\n",
      "shared_receipt_with_poi        NaN\n",
      "restricted_stock_deferred      NaN\n",
      "total_stock_value            85641\n",
      "expenses                       NaN\n",
      "loan_advances                  NaN\n",
      "from_messages                  NaN\n",
      "other                          NaN\n",
      "from_this_person_to_poi        NaN\n",
      "poi                          False\n",
      "director_fees                  NaN\n",
      "deferred_income                NaN\n",
      "long_term_incentive            NaN\n",
      "from_poi_to_this_person        NaN\n",
      "missing_num                     16\n",
      "Name: GILLIS JOHN, dtype: object)\n",
      "----------------------------------------------------\n",
      "('GRAMM WENDY L', salary                          NaN\n",
      "to_messages                     NaN\n",
      "deferral_payments               NaN\n",
      "total_payments               119292\n",
      "exercised_stock_options         NaN\n",
      "bonus                           NaN\n",
      "restricted_stock                NaN\n",
      "shared_receipt_with_poi         NaN\n",
      "restricted_stock_deferred       NaN\n",
      "total_stock_value               NaN\n",
      "expenses                        NaN\n",
      "loan_advances                   NaN\n",
      "from_messages                   NaN\n",
      "other                           NaN\n",
      "from_this_person_to_poi         NaN\n",
      "poi                           False\n",
      "director_fees                119292\n",
      "deferred_income                 NaN\n",
      "long_term_incentive             NaN\n",
      "from_poi_to_this_person         NaN\n",
      "missing_num                      17\n",
      "Name: GRAMM WENDY L, dtype: object)\n",
      "----------------------------------------------------\n",
      "('LOCKHART EUGENE E', salary                         NaN\n",
      "to_messages                    NaN\n",
      "deferral_payments              NaN\n",
      "total_payments                 NaN\n",
      "exercised_stock_options        NaN\n",
      "bonus                          NaN\n",
      "restricted_stock               NaN\n",
      "shared_receipt_with_poi        NaN\n",
      "restricted_stock_deferred      NaN\n",
      "total_stock_value              NaN\n",
      "expenses                       NaN\n",
      "loan_advances                  NaN\n",
      "from_messages                  NaN\n",
      "other                          NaN\n",
      "from_this_person_to_poi        NaN\n",
      "poi                          False\n",
      "director_fees                  NaN\n",
      "deferred_income                NaN\n",
      "long_term_incentive            NaN\n",
      "from_poi_to_this_person        NaN\n",
      "missing_num                     19\n",
      "Name: LOCKHART EUGENE E, dtype: object)\n",
      "----------------------------------------------------\n",
      "('SAVAGE FRANK', salary                          NaN\n",
      "to_messages                     NaN\n",
      "deferral_payments               NaN\n",
      "total_payments                 3750\n",
      "exercised_stock_options         NaN\n",
      "bonus                           NaN\n",
      "restricted_stock                NaN\n",
      "shared_receipt_with_poi         NaN\n",
      "restricted_stock_deferred       NaN\n",
      "total_stock_value               NaN\n",
      "expenses                        NaN\n",
      "loan_advances                   NaN\n",
      "from_messages                   NaN\n",
      "other                           NaN\n",
      "from_this_person_to_poi         NaN\n",
      "poi                           False\n",
      "director_fees                125034\n",
      "deferred_income             -121284\n",
      "long_term_incentive             NaN\n",
      "from_poi_to_this_person         NaN\n",
      "missing_num                      16\n",
      "Name: SAVAGE FRANK, dtype: object)\n",
      "----------------------------------------------------\n",
      "('SCRIMSHAW MATTHEW', salary                          NaN\n",
      "to_messages                     NaN\n",
      "deferral_payments               NaN\n",
      "total_payments                  NaN\n",
      "exercised_stock_options      759557\n",
      "bonus                           NaN\n",
      "restricted_stock                NaN\n",
      "shared_receipt_with_poi         NaN\n",
      "restricted_stock_deferred       NaN\n",
      "total_stock_value            759557\n",
      "expenses                        NaN\n",
      "loan_advances                   NaN\n",
      "from_messages                   NaN\n",
      "other                           NaN\n",
      "from_this_person_to_poi         NaN\n",
      "poi                           False\n",
      "director_fees                   NaN\n",
      "deferred_income                 NaN\n",
      "long_term_incentive             NaN\n",
      "from_poi_to_this_person         NaN\n",
      "missing_num                      17\n",
      "Name: SCRIMSHAW MATTHEW, dtype: object)\n",
      "----------------------------------------------------\n",
      "('THE TRAVEL AGENCY IN THE PARK', salary                          NaN\n",
      "to_messages                     NaN\n",
      "deferral_payments               NaN\n",
      "total_payments               362096\n",
      "exercised_stock_options         NaN\n",
      "bonus                           NaN\n",
      "restricted_stock                NaN\n",
      "shared_receipt_with_poi         NaN\n",
      "restricted_stock_deferred       NaN\n",
      "total_stock_value               NaN\n",
      "expenses                        NaN\n",
      "loan_advances                   NaN\n",
      "from_messages                   NaN\n",
      "other                        362096\n",
      "from_this_person_to_poi         NaN\n",
      "poi                           False\n",
      "director_fees                   NaN\n",
      "deferred_income                 NaN\n",
      "long_term_incentive             NaN\n",
      "from_poi_to_this_person         NaN\n",
      "missing_num                      17\n",
      "Name: THE TRAVEL AGENCY IN THE PARK, dtype: object)\n",
      "----------------------------------------------------\n",
      "('WAKEHAM JOHN', salary                          NaN\n",
      "to_messages                     NaN\n",
      "deferral_payments               NaN\n",
      "total_payments               213071\n",
      "exercised_stock_options         NaN\n",
      "bonus                           NaN\n",
      "restricted_stock                NaN\n",
      "shared_receipt_with_poi         NaN\n",
      "restricted_stock_deferred       NaN\n",
      "total_stock_value               NaN\n",
      "expenses                     103773\n",
      "loan_advances                   NaN\n",
      "from_messages                   NaN\n",
      "other                           NaN\n",
      "from_this_person_to_poi         NaN\n",
      "poi                           False\n",
      "director_fees                109298\n",
      "deferred_income                 NaN\n",
      "long_term_incentive             NaN\n",
      "from_poi_to_this_person         NaN\n",
      "missing_num                      16\n",
      "Name: WAKEHAM JOHN, dtype: object)\n",
      "----------------------------------------------------\n",
      "('WHALEY DAVID A', salary                         NaN\n",
      "to_messages                    NaN\n",
      "deferral_payments              NaN\n",
      "total_payments                 NaN\n",
      "exercised_stock_options      98718\n",
      "bonus                          NaN\n",
      "restricted_stock               NaN\n",
      "shared_receipt_with_poi        NaN\n",
      "restricted_stock_deferred      NaN\n",
      "total_stock_value            98718\n",
      "expenses                       NaN\n",
      "loan_advances                  NaN\n",
      "from_messages                  NaN\n",
      "other                          NaN\n",
      "from_this_person_to_poi        NaN\n",
      "poi                          False\n",
      "director_fees                  NaN\n",
      "deferred_income                NaN\n",
      "long_term_incentive            NaN\n",
      "from_poi_to_this_person        NaN\n",
      "missing_num                     17\n",
      "Name: WHALEY DAVID A, dtype: object)\n",
      "----------------------------------------------------\n",
      "('WODRASKA JOHN', salary                          NaN\n",
      "to_messages                     NaN\n",
      "deferral_payments               NaN\n",
      "total_payments               189583\n",
      "exercised_stock_options         NaN\n",
      "bonus                           NaN\n",
      "restricted_stock                NaN\n",
      "shared_receipt_with_poi         NaN\n",
      "restricted_stock_deferred       NaN\n",
      "total_stock_value               NaN\n",
      "expenses                        NaN\n",
      "loan_advances                   NaN\n",
      "from_messages                   NaN\n",
      "other                        189583\n",
      "from_this_person_to_poi         NaN\n",
      "poi                           False\n",
      "director_fees                   NaN\n",
      "deferred_income                 NaN\n",
      "long_term_incentive             NaN\n",
      "from_poi_to_this_person         NaN\n",
      "missing_num                      17\n",
      "Name: WODRASKA JOHN, dtype: object)\n",
      "----------------------------------------------------\n",
      "('WROBEL BRUCE', salary                          NaN\n",
      "to_messages                     NaN\n",
      "deferral_payments               NaN\n",
      "total_payments                  NaN\n",
      "exercised_stock_options      139130\n",
      "bonus                           NaN\n",
      "restricted_stock                NaN\n",
      "shared_receipt_with_poi         NaN\n",
      "restricted_stock_deferred       NaN\n",
      "total_stock_value            139130\n",
      "expenses                        NaN\n",
      "loan_advances                   NaN\n",
      "from_messages                   NaN\n",
      "other                           NaN\n",
      "from_this_person_to_poi         NaN\n",
      "poi                           False\n",
      "director_fees                   NaN\n",
      "deferred_income                 NaN\n",
      "long_term_incentive             NaN\n",
      "from_poi_to_this_person         NaN\n",
      "missing_num                      17\n",
      "Name: WROBEL BRUCE, dtype: object)\n"
     ]
    }
   ],
   "source": [
    "missing_list = data[data[\"missing_num\"] >15].index.tolist()\n",
    "    \n",
    "for row in data.ix[missing_list].iterrows():\n",
    "    print \"----------------------------------------------------\"\n",
    "    print row\n",
    "    "
   ]
  },
  {
   "cell_type": "markdown",
   "metadata": {},
   "source": [
    "Eugene E Lockhart has no records whatsoever, so I remove him from the data set."
   ]
  },
  {
   "cell_type": "code",
   "execution_count": 7,
   "metadata": {
    "collapsed": true
   },
   "outputs": [],
   "source": [
    "#removing Eugene E. Lockhart from the data set\n",
    "data = data[data.index != \"LOCKHART EUGENE E\"]"
   ]
  },
  {
   "cell_type": "markdown",
   "metadata": {},
   "source": [
    "Because missing values in financial data actually equal to zero per the accompanying PDF document, we impute these missing values as zeroes. "
   ]
  },
  {
   "cell_type": "code",
   "execution_count": 8,
   "metadata": {
    "collapsed": true
   },
   "outputs": [],
   "source": [
    "# a list of all the features related to finance\n",
    "finance_list = [\"salary\",\"deferral_payments\",\"total_payments\",\"exercised_stock_options\",\"bonus\",\"restricted_stock\",\n",
    "                \"restricted_stock_deferred\",\"total_stock_value\",\"expenses\",\"loan_advances\",\"other\",\"director_fees\",\n",
    "                \"deferred_income\",\"long_term_incentive\"\n",
    "               ]"
   ]
  },
  {
   "cell_type": "code",
   "execution_count": 9,
   "metadata": {
    "collapsed": false
   },
   "outputs": [],
   "source": [
    "# imputing finance features with 0\n",
    "for i in finance_list:\n",
    "    data[i].fillna(value = 0, inplace=True)"
   ]
  },
  {
   "cell_type": "markdown",
   "metadata": {},
   "source": [
    "Now let's look at each feature and its corresponding number of missing values."
   ]
  },
  {
   "cell_type": "code",
   "execution_count": 10,
   "metadata": {
    "collapsed": false
   },
   "outputs": [
    {
     "name": "stdout",
     "output_type": "stream",
     "text": [
      "salary                        0\n",
      "to_messages                  59\n",
      "deferral_payments             0\n",
      "total_payments                0\n",
      "exercised_stock_options       0\n",
      "bonus                         0\n",
      "restricted_stock              0\n",
      "shared_receipt_with_poi      59\n",
      "restricted_stock_deferred     0\n",
      "total_stock_value             0\n",
      "expenses                      0\n",
      "loan_advances                 0\n",
      "from_messages                59\n",
      "other                         0\n",
      "from_this_person_to_poi      59\n",
      "poi                           0\n",
      "director_fees                 0\n",
      "deferred_income               0\n",
      "long_term_incentive           0\n",
      "from_poi_to_this_person      59\n",
      "missing_num                   0\n",
      "dtype: int64\n"
     ]
    }
   ],
   "source": [
    "print data.apply(show_missing, axis=0)"
   ]
  },
  {
   "cell_type": "markdown",
   "metadata": {},
   "source": [
    "Features related to email still have missing values, and these missing values are actually true missing values per the accompanying PDF document. Let's impute these features with their respective medians.  "
   ]
  },
  {
   "cell_type": "code",
   "execution_count": 11,
   "metadata": {
    "collapsed": true
   },
   "outputs": [],
   "source": [
    "email_list = [\"to_messages\",\"shared_receipt_with_poi\",\"from_messages\",\"from_this_person_to_poi\",\"from_poi_to_this_person\"]"
   ]
  },
  {
   "cell_type": "code",
   "execution_count": 12,
   "metadata": {
    "collapsed": false
   },
   "outputs": [
    {
     "name": "stdout",
     "output_type": "stream",
     "text": [
      "salary                       0\n",
      "to_messages                  0\n",
      "deferral_payments            0\n",
      "total_payments               0\n",
      "exercised_stock_options      0\n",
      "bonus                        0\n",
      "restricted_stock             0\n",
      "shared_receipt_with_poi      0\n",
      "restricted_stock_deferred    0\n",
      "total_stock_value            0\n",
      "expenses                     0\n",
      "loan_advances                0\n",
      "from_messages                0\n",
      "other                        0\n",
      "from_this_person_to_poi      0\n",
      "poi                          0\n",
      "director_fees                0\n",
      "deferred_income              0\n",
      "long_term_incentive          0\n",
      "from_poi_to_this_person      0\n",
      "missing_num                  0\n",
      "dtype: int64\n"
     ]
    }
   ],
   "source": [
    "#Replacing missing values in each field with the median\n",
    "for i in email_list:\n",
    "        data[i].fillna(data[i].median(), inplace = True)\n",
    "\n",
    "#Printing data after replacing NAs\n",
    "print data.apply(show_missing, axis=0)"
   ]
  },
  {
   "cell_type": "markdown",
   "metadata": {},
   "source": [
    "After replacing missing values, let's examine outliers through the IQR rule."
   ]
  },
  {
   "cell_type": "code",
   "execution_count": 13,
   "metadata": {
    "collapsed": false
   },
   "outputs": [
    {
     "name": "stdout",
     "output_type": "stream",
     "text": [
      "SULLIVAN-SHAKLOVITZ COLLEEN\n",
      "THE TRAVEL AGENCY IN THE PARK\n",
      "TOTAL\n",
      "None\n"
     ]
    }
   ],
   "source": [
    "#Detecting erronous data entries in the POI's names via IQR and removing them\n",
    "print show_error(data.index)"
   ]
  },
  {
   "cell_type": "markdown",
   "metadata": {},
   "source": [
    "\"TOTAL\" is not a person's name, so I remove its corresponding records."
   ]
  },
  {
   "cell_type": "code",
   "execution_count": 14,
   "metadata": {
    "collapsed": false
   },
   "outputs": [],
   "source": [
    "data = data[data.index != \"TOTAL\"]"
   ]
  },
  {
   "cell_type": "markdown",
   "metadata": {},
   "source": [
    "I then examine outliers based on salary using the IQR rule."
   ]
  },
  {
   "cell_type": "code",
   "execution_count": 15,
   "metadata": {
    "collapsed": false
   },
   "outputs": [
    {
     "name": "stdout",
     "output_type": "stream",
     "text": [
      "-------------------------------------------------------\n",
      "('FREVERT MARK A', salary                       1.06093e+06\n",
      "to_messages                         3275\n",
      "deferral_payments            6.42699e+06\n",
      "total_payments               1.72525e+07\n",
      "exercised_stock_options      1.04335e+07\n",
      "bonus                              2e+06\n",
      "restricted_stock             4.18867e+06\n",
      "shared_receipt_with_poi             2979\n",
      "restricted_stock_deferred              0\n",
      "total_stock_value            1.46222e+07\n",
      "expenses                           86987\n",
      "loan_advances                      2e+06\n",
      "from_messages                         21\n",
      "other                        7.42762e+06\n",
      "from_this_person_to_poi                6\n",
      "poi                                False\n",
      "director_fees                          0\n",
      "deferred_income             -3.36701e+06\n",
      "long_term_incentive          1.61701e+06\n",
      "from_poi_to_this_person              242\n",
      "missing_num                            2\n",
      "Name: FREVERT MARK A, dtype: object)\n",
      "-------------------------------------------------------\n",
      "('LAY KENNETH L', salary                       1.07232e+06\n",
      "to_messages                         4273\n",
      "deferral_payments                 202911\n",
      "total_payments                1.0356e+08\n",
      "exercised_stock_options      3.43484e+07\n",
      "bonus                              7e+06\n",
      "restricted_stock             1.47617e+07\n",
      "shared_receipt_with_poi             2411\n",
      "restricted_stock_deferred              0\n",
      "total_stock_value            4.91101e+07\n",
      "expenses                           99832\n",
      "loan_advances                 8.1525e+07\n",
      "from_messages                         36\n",
      "other                        1.03597e+07\n",
      "from_this_person_to_poi               16\n",
      "poi                                 True\n",
      "director_fees                          0\n",
      "deferred_income                  -300000\n",
      "long_term_incentive              3.6e+06\n",
      "from_poi_to_this_person              123\n",
      "missing_num                            2\n",
      "Name: LAY KENNETH L, dtype: object)\n",
      "-------------------------------------------------------\n",
      "('SKILLING JEFFREY K', salary                       1.11126e+06\n",
      "to_messages                         3627\n",
      "deferral_payments                      0\n",
      "total_payments               8.68272e+06\n",
      "exercised_stock_options        1.925e+07\n",
      "bonus                            5.6e+06\n",
      "restricted_stock             6.84367e+06\n",
      "shared_receipt_with_poi             2042\n",
      "restricted_stock_deferred              0\n",
      "total_stock_value            2.60937e+07\n",
      "expenses                           29336\n",
      "loan_advances                          0\n",
      "from_messages                        108\n",
      "other                              22122\n",
      "from_this_person_to_poi               30\n",
      "poi                                 True\n",
      "director_fees                          0\n",
      "deferred_income                        0\n",
      "long_term_incentive             1.92e+06\n",
      "from_poi_to_this_person               88\n",
      "missing_num                            5\n",
      "Name: SKILLING JEFFREY K, dtype: object)\n"
     ]
    }
   ],
   "source": [
    "return_outliers(data,'salary')"
   ]
  },
  {
   "cell_type": "markdown",
   "metadata": {},
   "source": [
    "The three outliers are Enron executives, but I'm not removing them from the data set for the following reasons:  \n",
    "- We have a small data set; and \n",
    "- Outliers could indicate fraud when building a fraud model."
   ]
  },
  {
   "cell_type": "markdown",
   "metadata": {},
   "source": [
    "I then construct a correlation matrix to examine relationships and the strengths of the relationship between variables."
   ]
  },
  {
   "cell_type": "code",
   "execution_count": 19,
   "metadata": {
    "collapsed": true
   },
   "outputs": [],
   "source": [
    "# Deleting the missing_num column\n",
    "del data[\"missing_num\"]"
   ]
  },
  {
   "cell_type": "code",
   "execution_count": 20,
   "metadata": {
    "collapsed": false
   },
   "outputs": [
    {
     "data": {
      "text/plain": [
       "<matplotlib.figure.Figure at 0xc701940>"
      ]
     },
     "metadata": {},
     "output_type": "display_data"
    },
    {
     "data": {
      "image/png": "[encoded data removed]",
      "text/plain": [
       "<matplotlib.figure.Figure at 0xc7fa630>"
      ]
     },
     "metadata": {},
     "output_type": "display_data"
    }
   ],
   "source": [
    "%matplotlib inline\n",
    "make_corr_matrix(data, \"corplot.png\")"
   ]
  },
  {
   "cell_type": "markdown",
   "metadata": {
    "collapsed": false
   },
   "source": [
    "Based on the matrix above, we have notable features that are related to each other to a certain degree (at least by 0.60):  \n",
    "\n",
    "   - 'bonus' and 'salary' by 0.65;  \n",
    "   - 'to_messages' and 'shared_receipt_with_poi' are correlated by 0.86;   \n",
    "   - 'total_payment' and 'exercised_stock_options' by 0.60;  \n",
    "   - 'total_payment' and 'loan_advances' by 0.96;  \n",
    "   - 'total_payment' and other by 0.83;  \n",
    "   - 'exercised_stock_option' and 'total_stock_value' by 0.96;  \n",
    "   - 'total_stock_value' and 'total_payment' by 0.66; and  \n",
    "   - 'from_messages' and 'from_this_person_to_poi' by 0.61.\n",
    "\n",
    "Knowing these correlated features will help us with feature engineering later in this notebook. Here are scatter plots demonstrating the linear relationships between some variables that are highly correlated to each other.\n"
   ]
  },
  {
   "cell_type": "code",
   "execution_count": 21,
   "metadata": {
    "collapsed": false
   },
   "outputs": [
    {
     "data": {
      "image/png": "[encoded data removed]",
      "text/plain": [
       "<matplotlib.figure.Figure at 0xc9abc50>"
      ]
     },
     "metadata": {},
     "output_type": "display_data"
    }
   ],
   "source": [
    "sns.regplot(x=\"to_messages\", y=\"shared_receipt_with_poi\", data = data);"
   ]
  },
  {
   "cell_type": "code",
   "execution_count": 22,
   "metadata": {
    "collapsed": false
   },
   "outputs": [
    {
     "data": {
      "image/png": "[encoded data removed]",
      "text/plain": [
       "<matplotlib.figure.Figure at 0xe63b4e0>"
      ]
     },
     "metadata": {},
     "output_type": "display_data"
    }
   ],
   "source": [
    "sns.regplot(x=\"total_stock_value\", y=\"exercised_stock_options\", data = data);"
   ]
  },
  {
   "cell_type": "markdown",
   "metadata": {
    "collapsed": true
   },
   "source": [
    "# 2. Feature Engineering"
   ]
  },
  {
   "cell_type": "markdown",
   "metadata": {},
   "source": [
    "We can see from the visualizations above that certain features, such as 'to_messages' and 'shared_receipt_with_poi' are related.  However, these features alone do not demonstrate anything meaningful, and feature engineering, therefore, is needed.  A good indicator for a person being a POI is whether he/she sends to, receives to, and shares messages with POI's. However, the absolulete values in the features, 'from_this_person_to_poi', 'from_poi_to_this_person', and 'shared_receipt_with_poi' cannot really indicate anything meaningful.  We want to be able assess a person's email communication to POI's relative to a person's overall email communication, so I also represent these features as ratios:\n",
    "\n",
    "   - from_poi_ratio = (from_poi_to_this_person / to_messages);  \n",
    "   - shared_receipt_ratio = (shared_receipt_with_poi / to_messages); and\n",
    "   - to_poi_ratio = (from_this_person_to_poi / from_messages)."
   ]
  },
  {
   "cell_type": "code",
   "execution_count": 23,
   "metadata": {
    "collapsed": true
   },
   "outputs": [],
   "source": [
    "#making  a new data set that includes the newly engineered features\n",
    "cleaned_data = data.copy(deep = True)"
   ]
  },
  {
   "cell_type": "code",
   "execution_count": 24,
   "metadata": {
    "collapsed": false
   },
   "outputs": [],
   "source": [
    "cleaned_data[\"from_poi_ratio\"] = cleaned_data[\"from_poi_to_this_person\"]/cleaned_data[\"to_messages\"]\n",
    "cleaned_data[\"shared_receipt_ratio\"] = cleaned_data[\"shared_receipt_with_poi\"]/cleaned_data[\"to_messages\"]\n",
    "cleaned_data[\"to_poi_ratio\"] = cleaned_data[\"from_this_person_to_poi\"]/ cleaned_data[\"from_messages\"]"
   ]
  },
  {
   "cell_type": "markdown",
   "metadata": {},
   "source": [
    "How much a person's stocks are worth and whether he/she exercises stock options might also be good indicators for being a POI.  However, the absolute values regarding stock values do not tell us anything meaningful, so I compute a ratio:"
   ]
  },
  {
   "cell_type": "code",
   "execution_count": 25,
   "metadata": {
    "collapsed": true
   },
   "outputs": [],
   "source": [
    "cleaned_data[\"stock_ratio\"] = cleaned_data[\"exercised_stock_options\"]/cleaned_data[\"total_stock_value\"]"
   ]
  },
  {
   "cell_type": "markdown",
   "metadata": {},
   "source": [
    "Another good indicator of fraud could be how much a person's bonus is relative to his or her salary.  It's intuitive that highly-paid executives receive high amounts of bonuses compared to those with lower salaries.  However, if a person who isn't highly paid receives a bonus that's in the range of a highly-paid executive's bonus, then it's possible that he or she could be a person of interest.  However, the absolute values of bonuses and salaries alone don't indicate anything meaningful, so I compute a bonus to salary ratio:\n",
    "\n",
    "   - bonus_ratio = (bonus/salary)"
   ]
  },
  {
   "cell_type": "code",
   "execution_count": 26,
   "metadata": {
    "collapsed": true
   },
   "outputs": [],
   "source": [
    "cleaned_data[\"bonus_ratio\"] = cleaned_data[\"bonus\"]/cleaned_data[\"salary\"]"
   ]
  },
  {
   "cell_type": "markdown",
   "metadata": {},
   "source": [
    "'total_payments' and 'total_stock_value' are correlated by 0.66 per the correlation matrix.  Employees with large amounts of stock values would also receive a lot of payments.  However, if an employee receives a lot of payments when his or her stock values are low, then he or she could be a person of interest.  The abosolute values of payments and stock values alone do not indicate anything meaningful, so I compute a payments to stock value ratio:"
   ]
  },
  {
   "cell_type": "code",
   "execution_count": 27,
   "metadata": {
    "collapsed": true
   },
   "outputs": [],
   "source": [
    "cleaned_data[\"payment_ratio\"] = cleaned_data[\"total_payments\"]/cleaned_data[\"total_stock_value\"]"
   ]
  },
  {
   "cell_type": "markdown",
   "metadata": {},
   "source": [
    "'total_payments' and 'loan_advances' are also highly correlated by 0.96.  Employees receiving numerous payments would also have large amounts of loan advances.  Other than those with large amounts of stock values, employees who do not have large amounts of loan advances but who do receive numerous payments, therefore, could be persons of interest. The absolute values of payments and loan advances do not indicate anything meaningful, so I compute a payments to loan advances  ratio:"
   ]
  },
  {
   "cell_type": "code",
   "execution_count": 28,
   "metadata": {
    "collapsed": true
   },
   "outputs": [],
   "source": [
    "cleaned_data[\"loan_ratio\"] = cleaned_data[\"total_payments\"]/cleaned_data[\"loan_advances\"]"
   ]
  },
  {
   "cell_type": "markdown",
   "metadata": {},
   "source": [
    "'total_stock_value' and 'restricted_stock' are correlated by 0.78.  Hence, employees with high total stock values would also have large amounts of restricted stocks.  The absolute values of total stock and restricted stock values don't tell us anything meanginful, so I compute a restricted stock to total stock value ratio:"
   ]
  },
  {
   "cell_type": "code",
   "execution_count": 29,
   "metadata": {
    "collapsed": true
   },
   "outputs": [],
   "source": [
    "cleaned_data[\"restricted_stock_ratio\"] = cleaned_data[\"restricted_stock\"]/cleaned_data[\"total_stock_value\"]"
   ]
  },
  {
   "cell_type": "markdown",
   "metadata": {},
   "source": [
    "'other', another finance-related feature, is also correlated to several finance-related features, such as 'loan_advances' and 'restricted_stock'.  On one hand, we don't really know what other entails.  All we know is that it's finance-related.  On the other hand, we can see from the correlation matrix that 'total_payments' has the highest correlation with other.  Other than those who receive numerous loan advances and stock payments, employees with numerous payments with low amounts of 'other' financial related payments could, therefore, be persons of interest.  The absolute values of other and total_payments don't indicate anything meaningful, so I compute a total payments to other ratio: "
   ]
  },
  {
   "cell_type": "code",
   "execution_count": 30,
   "metadata": {
    "collapsed": true
   },
   "outputs": [],
   "source": [
    "cleaned_data[\"other_ratio\"] = cleaned_data[\"total_payments\"]/cleaned_data[\"other\"]"
   ]
  },
  {
   "cell_type": "code",
   "execution_count": 31,
   "metadata": {
    "collapsed": false
   },
   "outputs": [
    {
     "name": "stdout",
     "output_type": "stream",
     "text": [
      "salary                       float64\n",
      "to_messages                  float64\n",
      "deferral_payments            float64\n",
      "total_payments               float64\n",
      "exercised_stock_options      float64\n",
      "bonus                        float64\n",
      "restricted_stock             float64\n",
      "shared_receipt_with_poi      float64\n",
      "restricted_stock_deferred    float64\n",
      "total_stock_value            float64\n",
      "expenses                     float64\n",
      "loan_advances                float64\n",
      "from_messages                float64\n",
      "other                        float64\n",
      "from_this_person_to_poi      float64\n",
      "poi                          float64\n",
      "director_fees                float64\n",
      "deferred_income              float64\n",
      "long_term_incentive          float64\n",
      "from_poi_to_this_person      float64\n",
      "dtype: object\n"
     ]
    }
   ],
   "source": [
    "#Pre-processing  the original data set without newly engineered features before scaling them    \n",
    "data = data.convert_objects(convert_numeric=True)\n",
    "data[\"poi\"] = data[\"poi\"].astype(float)\n",
    "\n",
    "print data.dtypes"
   ]
  },
  {
   "cell_type": "markdown",
   "metadata": {},
   "source": [
    "Let's examine the missing values in the variables of the new data set engineered features."
   ]
  },
  {
   "cell_type": "code",
   "execution_count": 32,
   "metadata": {
    "collapsed": false
   },
   "outputs": [
    {
     "name": "stdout",
     "output_type": "stream",
     "text": [
      "Index([u'stock_ratio', u'bonus_ratio', u'payment_ratio', u'loan_ratio',\n",
      "       u'restricted_stock_ratio', u'other_ratio'],\n",
      "      dtype='object')\n"
     ]
    }
   ],
   "source": [
    "print cleaned_data.columns[cleaned_data.isnull().any()]"
   ]
  },
  {
   "cell_type": "code",
   "execution_count": 33,
   "metadata": {
    "collapsed": false
   },
   "outputs": [
    {
     "name": "stdout",
     "output_type": "stream",
     "text": [
      "stock_ratio               18\n",
      "bonus_ratio               50\n",
      "payment_ratio              2\n",
      "loan_ratio                20\n",
      "restricted_stock_ratio    16\n",
      "other_ratio               20\n",
      "dtype: int64\n"
     ]
    }
   ],
   "source": [
    "miss_list = [\"stock_ratio\", \"bonus_ratio\", \"payment_ratio\", \"loan_ratio\",\"restricted_stock_ratio\",\"other_ratio\"]\n",
    "\n",
    "#print numbers of missing values for these fields\n",
    "print  cleaned_data[miss_list].apply(show_missing, axis=0)"
   ]
  },
  {
   "cell_type": "markdown",
   "metadata": {},
   "source": [
    "These fields do not have a lot missing values for over 50% of their records, so I impute them using their respective median."
   ]
  },
  {
   "cell_type": "code",
   "execution_count": 34,
   "metadata": {
    "collapsed": true
   },
   "outputs": [],
   "source": [
    "for i in miss_list:\n",
    "        cleaned_data[i].fillna(cleaned_data[i].median(), inplace = True)"
   ]
  },
  {
   "cell_type": "code",
   "execution_count": 35,
   "metadata": {
    "collapsed": false
   },
   "outputs": [
    {
     "name": "stdout",
     "output_type": "stream",
     "text": [
      "salary                       0\n",
      "to_messages                  0\n",
      "deferral_payments            0\n",
      "total_payments               0\n",
      "exercised_stock_options      0\n",
      "bonus                        0\n",
      "restricted_stock             0\n",
      "shared_receipt_with_poi      0\n",
      "restricted_stock_deferred    0\n",
      "total_stock_value            0\n",
      "expenses                     0\n",
      "loan_advances                0\n",
      "from_messages                0\n",
      "other                        0\n",
      "from_this_person_to_poi      0\n",
      "poi                          0\n",
      "director_fees                0\n",
      "deferred_income              0\n",
      "long_term_incentive          0\n",
      "from_poi_to_this_person      0\n",
      "from_poi_ratio               0\n",
      "shared_receipt_ratio         0\n",
      "to_poi_ratio                 0\n",
      "stock_ratio                  0\n",
      "bonus_ratio                  0\n",
      "payment_ratio                0\n",
      "loan_ratio                   0\n",
      "restricted_stock_ratio       0\n",
      "other_ratio                  0\n",
      "dtype: int64\n"
     ]
    }
   ],
   "source": [
    "print cleaned_data.apply(show_missing, axis = 0)"
   ]
  },
  {
   "cell_type": "code",
   "execution_count": 36,
   "metadata": {
    "collapsed": false
   },
   "outputs": [
    {
     "name": "stdout",
     "output_type": "stream",
     "text": [
      "salary                       float64\n",
      "to_messages                  float64\n",
      "deferral_payments            float64\n",
      "total_payments               float64\n",
      "exercised_stock_options      float64\n",
      "bonus                        float64\n",
      "restricted_stock             float64\n",
      "shared_receipt_with_poi      float64\n",
      "restricted_stock_deferred    float64\n",
      "total_stock_value            float64\n",
      "expenses                     float64\n",
      "loan_advances                float64\n",
      "from_messages                float64\n",
      "other                        float64\n",
      "from_this_person_to_poi      float64\n",
      "poi                          float64\n",
      "director_fees                float64\n",
      "deferred_income              float64\n",
      "long_term_incentive          float64\n",
      "from_poi_to_this_person      float64\n",
      "from_poi_ratio               float64\n",
      "shared_receipt_ratio         float64\n",
      "to_poi_ratio                 float64\n",
      "stock_ratio                  float64\n",
      "bonus_ratio                  float64\n",
      "payment_ratio                float64\n",
      "loan_ratio                   float64\n",
      "restricted_stock_ratio       float64\n",
      "other_ratio                  float64\n",
      "dtype: object\n"
     ]
    }
   ],
   "source": [
    "cleaned_data = cleaned_data.convert_objects(convert_numeric=True)\n",
    "cleaned_data[\"poi\"] = cleaned_data[\"poi\"].astype(float)\n",
    "\n",
    "print cleaned_data.dtypes"
   ]
  },
  {
   "cell_type": "code",
   "execution_count": 37,
   "metadata": {
    "collapsed": false
   },
   "outputs": [
    {
     "data": {
      "text/plain": [
       "salary                         0\n",
       "to_messages                    0\n",
       "deferral_payments              0\n",
       "total_payments                 0\n",
       "exercised_stock_options        0\n",
       "bonus                          0\n",
       "restricted_stock               0\n",
       "shared_receipt_with_poi        0\n",
       "restricted_stock_deferred      0\n",
       "total_stock_value              0\n",
       "expenses                       0\n",
       "loan_advances                  0\n",
       "from_messages                  0\n",
       "other                          0\n",
       "from_this_person_to_poi        0\n",
       "poi                            0\n",
       "director_fees                  0\n",
       "deferred_income                0\n",
       "long_term_incentive            0\n",
       "from_poi_to_this_person        0\n",
       "from_poi_ratio                 0\n",
       "shared_receipt_ratio           0\n",
       "to_poi_ratio                   0\n",
       "stock_ratio                    1\n",
       "bonus_ratio                    0\n",
       "payment_ratio                 17\n",
       "loan_ratio                   141\n",
       "restricted_stock_ratio         3\n",
       "other_ratio                   32\n",
       "dtype: int64"
      ]
     },
     "execution_count": 37,
     "metadata": {},
     "output_type": "execute_result"
    }
   ],
   "source": [
    "#Imputing for infinite values\n",
    "cleaned_data[~np.isfinite(cleaned_data)] = np.nan\n",
    "cleaned_data.isnull().sum()"
   ]
  },
  {
   "cell_type": "markdown",
   "metadata": {},
   "source": [
    "Most of the records are in the 'loan_ratio' features are infinite or missing, so I remove this feature from the data set, while imputing the 'stock_ratio', 'payment_ratio', 'restricted_stock_ratio', and 'other_ratio' with their respective medians."
   ]
  },
  {
   "cell_type": "code",
   "execution_count": 38,
   "metadata": {
    "collapsed": false
   },
   "outputs": [],
   "source": [
    "del cleaned_data[\"loan_ratio\"]"
   ]
  },
  {
   "cell_type": "code",
   "execution_count": 39,
   "metadata": {
    "collapsed": false
   },
   "outputs": [
    {
     "data": {
      "text/plain": [
       "salary                       0\n",
       "to_messages                  0\n",
       "deferral_payments            0\n",
       "total_payments               0\n",
       "exercised_stock_options      0\n",
       "bonus                        0\n",
       "restricted_stock             0\n",
       "shared_receipt_with_poi      0\n",
       "restricted_stock_deferred    0\n",
       "total_stock_value            0\n",
       "expenses                     0\n",
       "loan_advances                0\n",
       "from_messages                0\n",
       "other                        0\n",
       "from_this_person_to_poi      0\n",
       "poi                          0\n",
       "director_fees                0\n",
       "deferred_income              0\n",
       "long_term_incentive          0\n",
       "from_poi_to_this_person      0\n",
       "from_poi_ratio               0\n",
       "shared_receipt_ratio         0\n",
       "to_poi_ratio                 0\n",
       "stock_ratio                  0\n",
       "bonus_ratio                  0\n",
       "payment_ratio                0\n",
       "restricted_stock_ratio       0\n",
       "other_ratio                  0\n",
       "dtype: int64"
      ]
     },
     "execution_count": 39,
     "metadata": {},
     "output_type": "execute_result"
    }
   ],
   "source": [
    "inf_list = [\"stock_ratio\",\"payment_ratio\",\"restricted_stock_ratio\",\"other_ratio\"]\n",
    "\n",
    "for i in inf_list:\n",
    "        cleaned_data[i].fillna(cleaned_data[i].median(), inplace = True)\n",
    "\n",
    "cleaned_data.isnull().sum()"
   ]
  },
  {
   "cell_type": "code",
   "execution_count": 40,
   "metadata": {
    "collapsed": false
   },
   "outputs": [
    {
     "name": "stdout",
     "output_type": "stream",
     "text": [
      "salary                       float32\n",
      "to_messages                  float32\n",
      "deferral_payments            float32\n",
      "total_payments               float32\n",
      "exercised_stock_options      float32\n",
      "bonus                        float32\n",
      "restricted_stock             float32\n",
      "shared_receipt_with_poi      float32\n",
      "restricted_stock_deferred    float32\n",
      "total_stock_value            float32\n",
      "expenses                     float32\n",
      "loan_advances                float32\n",
      "from_messages                float32\n",
      "other                        float32\n",
      "from_this_person_to_poi      float32\n",
      "poi                          float32\n",
      "director_fees                float32\n",
      "deferred_income              float32\n",
      "long_term_incentive          float32\n",
      "from_poi_to_this_person      float32\n",
      "from_poi_ratio               float32\n",
      "shared_receipt_ratio         float32\n",
      "to_poi_ratio                 float32\n",
      "stock_ratio                  float32\n",
      "bonus_ratio                  float32\n",
      "payment_ratio                float32\n",
      "restricted_stock_ratio       float32\n",
      "other_ratio                  float32\n",
      "dtype: object\n"
     ]
    }
   ],
   "source": [
    "#Pre-processing data set with newly engineered features   \n",
    "for column in cleaned_data:\n",
    "    cleaned_data[column] = cleaned_data[column].astype('float32')\n",
    "\n",
    "print cleaned_data.dtypes"
   ]
  },
  {
   "cell_type": "markdown",
   "metadata": {},
   "source": [
    "I then split the data sets into training and testing sets."
   ]
  },
  {
   "cell_type": "code",
   "execution_count": 41,
   "metadata": {
    "collapsed": false
   },
   "outputs": [],
   "source": [
    "#splitting the new data set with engineered features into training and testing sets\n",
    "#from sklearn.cross_validation import train_test_split\n",
    "\n",
    "cleaned_features = cleaned_data[['salary','to_messages','deferral_payments','total_payments','exercised_stock_options','bonus','restricted_stock','shared_receipt_with_poi','restricted_stock_deferred',\n",
    "                                 'total_stock_value','expenses','loan_advances','from_messages','other',                       \n",
    "                                'from_this_person_to_poi','director_fees','deferred_income','long_term_incentive','from_poi_to_this_person','from_poi_ratio',              \n",
    "                                'shared_receipt_ratio','to_poi_ratio','stock_ratio','bonus_ratio','payment_ratio','restricted_stock_ratio','other_ratio'\n",
    "                                ]]\n",
    "\n",
    "\n",
    "cleaned_features_train, cleaned_features_test, cleaned_target_train, cleaned_target_test = train_test_split(cleaned_features, cleaned_data['poi'], random_state = 42)"
   ]
  },
  {
   "cell_type": "code",
   "execution_count": 42,
   "metadata": {
    "collapsed": true
   },
   "outputs": [],
   "source": [
    "#splitting the original data set into training and testing sets\n",
    "features = data[['salary','to_messages','deferral_payments','total_payments','exercised_stock_options','bonus',\n",
    "            'restricted_stock','shared_receipt_with_poi','restricted_stock_deferred','total_stock_value','expenses','loan_advances',\n",
    "            'from_messages','other','from_this_person_to_poi','director_fees','deferred_income','long_term_incentive','from_poi_to_this_person' \n",
    "            ]]\n",
    "\n",
    "features_train, features_test, target_train, target_test = train_test_split(features, data['poi'], random_state = 42)"
   ]
  },
  {
   "cell_type": "markdown",
   "metadata": {},
   "source": [
    "# 3. Model Building and Selection"
   ]
  },
  {
   "cell_type": "markdown",
   "metadata": {},
   "source": [
    "I'm using two data sets -- the original data and the new data set with engineered features -- in order to assess whether models with additional, engineered features perform better or not.  I pick logistic regression and random forest as my algorithms for the following reasons:  \n",
    "- Our data set has binary variable of POI or non-POI, making logistic regression an appropriate classifier; and\n",
    "- Most of the records in our data set overwhelmingly consist of non-POI's, and this class imbalance makes random forest an appropriate classifier.\n",
    "\n",
    "Automatically tuning all possible combinations of parameters via Python GridSearch CV returns the best parameters for the models with the greatest performance. SelectKBest feature selection with a list of different numbers of features and PCA are tuned for both logistic regression and random forest.  \n",
    "\n",
    "I tune the following parameters specifically for logistic regression:\n",
    "\n",
    "- The 'C' parameter to reduce overfitting - a problem entailing the model predicting well on the training data but not on the unseen data; and\n",
    "- The 'class_weight' in order to account for class imbalance.\n",
    "\n",
    "I tune the following parameters specifically for random forest in order to reduce the risk of overfitting:\n",
    "- The 'n_estimators' parameter that decides the best numbers of trees in the forest; and\n",
    "- The 'min_samples_split' parameter that decides the best number of samples needed to split a decision node.\n",
    "\n",
    "I also incorporate StratifiedShuffleSplit and 10-fold cross validation to further optimize model performance and also account for class imbalance."
   ]
  },
  {
   "cell_type": "markdown",
   "metadata": {},
   "source": [
    "## 3.1 Original Data Set"
   ]
  },
  {
   "cell_type": "markdown",
   "metadata": {},
   "source": [
    "Let's use the original data set without the newly, engineered features."
   ]
  },
  {
   "cell_type": "code",
   "execution_count": 43,
   "metadata": {
    "collapsed": true
   },
   "outputs": [],
   "source": [
    "#creating a dictionary of models and their names\n",
    "\n",
    "#logistic regression models\n",
    "l_param = logit_pipeline(features_train,target_train, val = False, p = False, f = False)\n",
    "l_param_pca = logit_pipeline(features_train,target_train,val = False, p = True, f = False)\n",
    "l_param_c = logit_pipeline(features_train,target_train,val = True, p = False, f = False)\n",
    "l_param_pca_c = logit_pipeline(features_train,target_train,val = True, p = True, f = False)\n",
    "\n",
    "#random forest\n",
    "r_param = rf_pipeline(features_train,target_train, val= False, p = False, f = False)\n",
    "r_param_pca = rf_pipeline(features_train,target_train, val= False, p=True, f = False)\n",
    "r_param_c = rf_pipeline(features_train,target_train, val= True, p=False, f = False)\n",
    "r_param_pca_c = rf_pipeline(features_train,target_train, val= True, p=True, f = False)\n",
    "\n",
    "\n",
    "model_dict = {'logistic regression with SelectKBest feature selection and without cross validation':l_param,\n",
    "             'logistic regression with PCA and without 10-fold cross validation': l_param_pca,\n",
    "             'logistic regression with SelectKBest feature selection and 10-fold cross validation':l_param_c,\n",
    "             'logistic regression with PCA and  10-fold cross validation':l_param_pca_c,\n",
    "             'random forest with SelectKBest feature selection and without 10-fold cross validation':r_param,\n",
    "             'random forest with PCA and without 10-fold cross validation':r_param_pca,\n",
    "             'random forest with SelectKBest feature selection and with 10-fold cross validation':r_param_c,\n",
    "             'random forest with PCA feature selection and with 10-fold cross validation':r_param_pca_c\n",
    "             }\n"
   ]
  },
  {
   "cell_type": "code",
   "execution_count": 44,
   "metadata": {
    "collapsed": false
   },
   "outputs": [
    {
     "name": "stdout",
     "output_type": "stream",
     "text": [
      "Here are the results of  random forest with PCA feature selection and with 10-fold cross validation  :\n",
      "\n",
      "             precision    recall  f1-score   support\n",
      "\n",
      "        0.0       0.94      0.97      0.96        33\n",
      "        1.0       0.50      0.33      0.40         3\n",
      "\n",
      "avg / total       0.90      0.92      0.91        36\n",
      "\n",
      "---------------------------------------------------------------------------------------------------------\n",
      "Here are the results of  logistic regression with PCA and  10-fold cross validation  :\n",
      "\n",
      "             precision    recall  f1-score   support\n",
      "\n",
      "        0.0       0.96      0.82      0.89        33\n",
      "        1.0       0.25      0.67      0.36         3\n",
      "\n",
      "avg / total       0.90      0.81      0.84        36\n",
      "\n",
      "---------------------------------------------------------------------------------------------------------\n",
      "Here are the results of  random forest with SelectKBest feature selection and with 10-fold cross validation  :\n",
      "\n",
      "             precision    recall  f1-score   support\n",
      "\n",
      "        0.0       0.92      1.00      0.96        33\n",
      "        1.0       0.00      0.00      0.00         3\n",
      "\n",
      "avg / total       0.84      0.92      0.88        36\n",
      "\n",
      "---------------------------------------------------------------------------------------------------------\n",
      "Here are the results of  random forest with PCA and without 10-fold cross validation  :\n",
      "\n",
      "             precision    recall  f1-score   support\n",
      "\n",
      "        0.0       0.92      1.00      0.96        33\n",
      "        1.0       0.00      0.00      0.00         3\n",
      "\n",
      "avg / total       0.84      0.92      0.88        36\n",
      "\n",
      "---------------------------------------------------------------------------------------------------------\n",
      "Here are the results of  logistic regression with SelectKBest feature selection and 10-fold cross validation  :\n",
      "\n",
      "             precision    recall  f1-score   support\n",
      "\n",
      "        0.0       0.96      0.82      0.89        33\n",
      "        1.0       0.25      0.67      0.36         3\n",
      "\n",
      "avg / total       0.90      0.81      0.84        36\n",
      "\n",
      "---------------------------------------------------------------------------------------------------------\n",
      "Here are the results of  logistic regression with PCA and without 10-fold cross validation  :\n",
      "\n",
      "             precision    recall  f1-score   support\n",
      "\n",
      "        0.0       0.96      0.82      0.89        33\n",
      "        1.0       0.25      0.67      0.36         3\n",
      "\n",
      "avg / total       0.90      0.81      0.84        36\n",
      "\n",
      "---------------------------------------------------------------------------------------------------------\n",
      "Here are the results of  logistic regression with SelectKBest feature selection and without cross validation  :\n",
      "\n",
      "             precision    recall  f1-score   support\n",
      "\n",
      "        0.0       0.96      0.76      0.85        33\n",
      "        1.0       0.20      0.67      0.31         3\n",
      "\n",
      "avg / total       0.90      0.75      0.80        36\n",
      "\n",
      "---------------------------------------------------------------------------------------------------------\n",
      "Here are the results of  random forest with SelectKBest feature selection and without 10-fold cross validation  :\n",
      "\n",
      "             precision    recall  f1-score   support\n",
      "\n",
      "        0.0       0.92      1.00      0.96        33\n",
      "        1.0       0.00      0.00      0.00         3\n",
      "\n",
      "avg / total       0.84      0.92      0.88        36\n",
      "\n",
      "---------------------------------------------------------------------------------------------------------\n"
     ]
    }
   ],
   "source": [
    "for key, value in model_dict.items():\n",
    "    show_model_metrics(key,value,features_test,target_test)\n",
    "    "
   ]
  },
  {
   "cell_type": "markdown",
   "metadata": {},
   "source": [
    "## 3.2 Data Set with Engineered Features"
   ]
  },
  {
   "cell_type": "markdown",
   "metadata": {},
   "source": [
    "Let's use the data set with the newly, engineered features."
   ]
  },
  {
   "cell_type": "code",
   "execution_count": 45,
   "metadata": {
    "collapsed": true
   },
   "outputs": [],
   "source": [
    "#logistic regression\n",
    "l_param_new = logit_pipeline(cleaned_features_train,cleaned_target_train, val = False, p = False, f = True)\n",
    "l_param_new_pca = logit_pipeline(cleaned_features_train,cleaned_target_train, val = False, p = True, f = True)\n",
    "l_param_new_c = logit_pipeline(cleaned_features_train,cleaned_target_train, val = True, p = False, f = True)\n",
    "l_param_new_pca_c = logit_pipeline(cleaned_features_train,cleaned_target_train, val = True, p = True, f = True)\n",
    "\n",
    "#random forest\n",
    "r_param_new = rf_pipeline(cleaned_features_train,cleaned_target_train,val= False, p = False, f = True)\n",
    "r_param_new_pca = rf_pipeline(cleaned_features_train,cleaned_target_train, val= False, p = True, f = True)\n",
    "r_param_new_c = rf_pipeline(cleaned_features_train,cleaned_target_train, val= True, p = False, f = True)\n",
    "r_param_new_pca_c = rf_pipeline(cleaned_features_train,cleaned_target_train, val= True, p = True, f = True)\n",
    "\n",
    "\n",
    "model_dict = {'logistic regression with SelectKBest feature selection and without cross validation':l_param_new,\n",
    "             'logistic regression with PCA and without 10-fold cross validation': l_param_new_pca,\n",
    "             'logistic regression with SelectKBest feature selection and 10-fold cross validation':l_param_new_c,\n",
    "             'logistic regression with PCA and  10-fold cross validation':l_param_new_pca_c,\n",
    "             'random forest with SelectKBest feature selection and without 10-fold cross validation':r_param_new,\n",
    "             'random forest with PCA and without 10-fold cross validation':r_param_new_pca,\n",
    "             'random forest with SelectKBest feature selection and with 10-fold cross validation':r_param_new_c,\n",
    "             'random forest with PCA feature selection and with 10-fold cross validation':r_param_new_pca_c\n",
    "             }\n",
    "\n"
   ]
  },
  {
   "cell_type": "code",
   "execution_count": 46,
   "metadata": {
    "collapsed": false
   },
   "outputs": [
    {
     "name": "stdout",
     "output_type": "stream",
     "text": [
      "Here are the results of  random forest with PCA feature selection and with 10-fold cross validation  :\n",
      "\n",
      "             precision    recall  f1-score   support\n",
      "\n",
      "        0.0       0.94      0.97      0.96        33\n",
      "        1.0       0.50      0.33      0.40         3\n",
      "\n",
      "avg / total       0.90      0.92      0.91        36\n",
      "\n",
      "---------------------------------------------------------------------------------------------------------\n",
      "Here are the results of  logistic regression with PCA and  10-fold cross validation  :\n",
      "\n",
      "             precision    recall  f1-score   support\n",
      "\n",
      "        0.0       0.97      0.85      0.90        33\n",
      "        1.0       0.29      0.67      0.40         3\n",
      "\n",
      "avg / total       0.91      0.83      0.86        36\n",
      "\n",
      "---------------------------------------------------------------------------------------------------------\n",
      "Here are the results of  random forest with SelectKBest feature selection and with 10-fold cross validation  :\n",
      "\n",
      "             precision    recall  f1-score   support\n",
      "\n",
      "        0.0       0.92      1.00      0.96        33\n",
      "        1.0       0.00      0.00      0.00         3\n",
      "\n",
      "avg / total       0.84      0.92      0.88        36\n",
      "\n",
      "---------------------------------------------------------------------------------------------------------\n",
      "Here are the results of  random forest with PCA and without 10-fold cross validation  :\n",
      "\n",
      "             precision    recall  f1-score   support\n",
      "\n",
      "        0.0       0.94      0.94      0.94        33\n",
      "        1.0       0.33      0.33      0.33         3\n",
      "\n",
      "avg / total       0.89      0.89      0.89        36\n",
      "\n",
      "---------------------------------------------------------------------------------------------------------\n",
      "Here are the results of  logistic regression with SelectKBest feature selection and 10-fold cross validation  :\n",
      "\n",
      "             precision    recall  f1-score   support\n",
      "\n",
      "        0.0       0.97      0.88      0.92        33\n",
      "        1.0       0.33      0.67      0.44         3\n",
      "\n",
      "avg / total       0.91      0.86      0.88        36\n",
      "\n",
      "---------------------------------------------------------------------------------------------------------\n",
      "Here are the results of  logistic regression with PCA and without 10-fold cross validation  :\n",
      "\n",
      "             precision    recall  f1-score   support\n",
      "\n",
      "        0.0       0.97      0.85      0.90        33\n",
      "        1.0       0.29      0.67      0.40         3\n",
      "\n",
      "avg / total       0.91      0.83      0.86        36\n",
      "\n",
      "---------------------------------------------------------------------------------------------------------\n",
      "Here are the results of  logistic regression with SelectKBest feature selection and without cross validation  :\n",
      "\n",
      "             precision    recall  f1-score   support\n",
      "\n",
      "        0.0       1.00      0.85      0.92        33\n",
      "        1.0       0.38      1.00      0.55         3\n",
      "\n",
      "avg / total       0.95      0.86      0.89        36\n",
      "\n",
      "---------------------------------------------------------------------------------------------------------\n",
      "Here are the results of  random forest with SelectKBest feature selection and without 10-fold cross validation  :\n",
      "\n",
      "             precision    recall  f1-score   support\n",
      "\n",
      "        0.0       0.92      1.00      0.96        33\n",
      "        1.0       0.00      0.00      0.00         3\n",
      "\n",
      "avg / total       0.84      0.92      0.88        36\n",
      "\n",
      "---------------------------------------------------------------------------------------------------------\n"
     ]
    }
   ],
   "source": [
    "for key, value in model_dict.items():\n",
    "    show_model_metrics(key,value,cleaned_features_test,cleaned_target_test)"
   ]
  },
  {
   "cell_type": "markdown",
   "metadata": {},
   "source": [
    "## 5. Results"
   ]
  },
  {
   "cell_type": "markdown",
   "metadata": {},
   "source": [
    "The best models entails logistic regression using the data set with additional, engineered features.  \n",
    "    \n",
    "Because SelectKBest feature selection could be explained more intuitively, I pick the logistic regression with SelectKBest feature selection without cross validation using the data set with the additional, engineered features as the best model to predict fraud.  On one hand, this model captures 100% of true POI's for further investigation with a recall rate of 100% and a precision of 38%.  On the other hand, this model also protects innocent people, because its precision of 100% of non-POI's tells us that if a person is indeed flagged as innocent by the model, then the probability that he or she is actually innocent is 100%.    \n",
    "    "
   ]
  },
  {
   "cell_type": "markdown",
   "metadata": {},
   "source": [
    "Let's look at the top features for predicting for fraud."
   ]
  },
  {
   "cell_type": "code",
   "execution_count": 47,
   "metadata": {
    "collapsed": false
   },
   "outputs": [],
   "source": [
    "#extracting top features' f1 scores\n",
    "l_param_new = logit_pipeline(cleaned_features_train,cleaned_target_train,val = False, p = False, f = True)\n",
    "\n",
    "top_feat = l_param_new.named_steps['feature_selection']\n",
    "\n",
    "top_feat_fin = cleaned_features_train.columns[top_feat.transform(np.arange(len(cleaned_features_train.columns)))]\n",
    "\n",
    "feature_str = ''.join(map(str,top_feat_fin))\n",
    "feature_str = feature_str[feature_str.find('[') + len('['):feature_str.find(']')].strip().replace(\"'\", '')\n",
    "\n",
    "features_list = []\n",
    "\n",
    "for word in feature_str.split(' '):\n",
    "    features_list.append(word.strip())\n"
   ]
  },
  {
   "cell_type": "code",
   "execution_count": 48,
   "metadata": {
    "collapsed": true
   },
   "outputs": [],
   "source": [
    "all_features = {k: v for k, v in zip(list(cleaned_features_train.columns.values),  list(top_feat.scores_))}"
   ]
  },
  {
   "cell_type": "code",
   "execution_count": 49,
   "metadata": {
    "collapsed": false
   },
   "outputs": [],
   "source": [
    "sorted_features = sorted(all_features.iteritems(), key=lambda (k, v): (-v, k))[:18]"
   ]
  },
  {
   "cell_type": "code",
   "execution_count": 50,
   "metadata": {
    "collapsed": false
   },
   "outputs": [
    {
     "name": "stdout",
     "output_type": "stream",
     "text": [
      "There are  18 features best predicting POI's.  Their names and their f-scores in descending order are:\n",
      "('bonus', 24.08814492116527)\n",
      "('salary', 17.137961131724083)\n",
      "('total_stock_value', 15.140455618991563)\n",
      "('exercised_stock_options', 15.087609266944277)\n",
      "('to_poi_ratio', 10.95011129467825)\n",
      "('deferred_income', 10.688007578135087)\n",
      "('long_term_incentive', 8.9942042789970387)\n",
      "('restricted_stock', 8.7283188797629219)\n",
      "('shared_receipt_ratio', 8.4484452108156169)\n",
      "('total_payments', 8.1240981820681064)\n",
      "('shared_receipt_with_poi', 7.2937305960139174)\n",
      "('bonus_ratio', 6.9626134591868274)\n",
      "('loan_advances', 6.4538096774160065)\n",
      "('expenses', 3.9406275943422804)\n",
      "('other', 3.8703071301900827)\n",
      "('from_poi_to_this_person', 3.1779558789106992)\n",
      "('stock_ratio', 1.8511883381328507)\n",
      "('director_fees', 1.7594640621876478)\n"
     ]
    }
   ],
   "source": [
    "print \"There are \" , len(features_list), \"features best predicting POI's.  Their names and their f-scores in descending order are:\"\n",
    "\n",
    "for i in sorted_features:\n",
    "    print i"
   ]
  },
  {
   "cell_type": "markdown",
   "metadata": {},
   "source": [
    "Let's examine the coefficients of the logistic regression model itself."
   ]
  },
  {
   "cell_type": "code",
   "execution_count": 51,
   "metadata": {
    "collapsed": true
   },
   "outputs": [],
   "source": [
    "logit_model = l_param_new.named_steps['logistic_regression']"
   ]
  },
  {
   "cell_type": "code",
   "execution_count": 52,
   "metadata": {
    "collapsed": false
   },
   "outputs": [],
   "source": [
    "#extracting coefficients from the logistic regression model\n",
    "import math\n",
    "\n",
    "coef_str = ''.join(map(str,logit_model.coef_))\n",
    "coef_str = coef_str.replace('[','')\n",
    "coef_str = coef_str.replace(']', '')\n",
    "\n",
    "coef_list = []\n",
    "\n",
    "for c in coef_str.split(' '):\n",
    "    coef_list.append(c.strip())\n",
    "\n",
    "coef_list = [c for c in coef_list if c]\n",
    "coef_list = [float(c) for c in coef_list]\n",
    "\n",
    "#expoteniating the coefficients to get the odd ratio's and then converting the odd ratio's to probabilities\n",
    "coef_list_e = []\n",
    "for c in coef_list:\n",
    "    c = math.exp(c)/(1+math.exp(c))\n",
    "    coef_list_e.append(c)"
   ]
  },
  {
   "cell_type": "code",
   "execution_count": 53,
   "metadata": {
    "collapsed": false
   },
   "outputs": [
    {
     "name": "stdout",
     "output_type": "stream",
     "text": [
      "Here are the features and their respective probabilities contributing to fraud: \n",
      "\n",
      "('to_poi_ratio', 0.9895262184279959)\n",
      "('exercised_stock_options', 0.9234633569407081)\n",
      "('expenses', 0.8860684585309102)\n",
      "('total_stock_value', 0.8710785845533553)\n",
      "('salary', 0.7884964415017263)\n",
      "('shared_receipt_ratio', 0.7597279015105216)\n",
      "('bonus', 0.7409081017288377)\n",
      "('shared_receipt_with_poi', 0.7098522409806279)\n",
      "('bonus_ratio', 0.6960033707493709)\n",
      "('restricted_stock', 0.5336599526562003)\n",
      "('loan_advances', 0.4974459397146241)\n",
      "('from_poi_to_this_person', 0.4653088355259344)\n",
      "('long_term_incentive', 0.43514918394712737)\n",
      "('total_payments', 0.369836095282112)\n",
      "('other', 0.33139078900871083)\n",
      "('director_fees', 0.1540219329202238)\n",
      "('deferred_income', 0.1406584590802062)\n",
      "('stock_ratio', 0.08482320546253408)\n"
     ]
    }
   ],
   "source": [
    "coefficients = {k: v for k, v in zip(features_list,  coef_list_e)}\n",
    "print \"Here are the features and their respective probabilities contributing to fraud: \\n\"\n",
    "for i in sorted(coefficients.iteritems(), key=lambda (k, v): (-v, k)):\n",
    "    print i"
   ]
  },
  {
   "cell_type": "markdown",
   "metadata": {},
   "source": [
    "Based on the probabilities of the eighteen features, 'to_poi_ratio' (the number of emails to POI relative to the overall number of emails a person sends), 'excercised_stocked_options', 'expenses', 'total_stock_value', and 'salary' are the top five features with the highest probabilities leading to fraud.  "
   ]
  },
  {
   "cell_type": "markdown",
   "metadata": {},
   "source": [
    "Unlike probabilities, the odd ratio's in logistic regression describe the constant effects that the features have on predicting fraud.  Hence, I also examine the odd ratio's in addition to probabilies.  "
   ]
  },
  {
   "cell_type": "code",
   "execution_count": 54,
   "metadata": {
    "collapsed": false
   },
   "outputs": [
    {
     "name": "stdout",
     "output_type": "stream",
     "text": [
      "Here are the features and their respective odd ratio's contributing to fraud: \n",
      "\n",
      "('to_poi_ratio', 94.4764994023695)\n",
      "('exercised_stock_options', 12.065637059954584)\n",
      "('expenses', 7.777200651421926)\n",
      "('total_stock_value', 6.756663208633937)\n",
      "('salary', 3.7280528379770104)\n",
      "('shared_receipt_ratio', 3.1619480842208176)\n",
      "('bonus', 2.8596343871525174)\n",
      "('shared_receipt_with_poi', 2.4465198124560867)\n",
      "('bonus_ratio', 2.289510158270713)\n",
      "('restricted_stock', 1.144357975893008)\n",
      "('loan_advances', 0.9898356794334698)\n",
      "('from_poi_to_this_person', 0.8702384973644043)\n",
      "('long_term_incentive', 0.7703789595063547)\n",
      "('total_payments', 0.5868887324602958)\n",
      "('other', 0.49564197375831287)\n",
      "('director_fees', 0.18206374244652782)\n",
      "('deferred_income', 0.16368167065408337)\n",
      "('stock_ratio', 0.09268504836314613)\n"
     ]
    }
   ],
   "source": [
    "coef_list_o =[]\n",
    "\n",
    "for c in coef_list:\n",
    "    c = math.exp(c)\n",
    "    coef_list_o.append(c)\n",
    "    \n",
    "coefficients_o = {k: v for k, v in zip(features_list,  coef_list_o)}\n",
    "\n",
    "print \"Here are the features and their respective odd ratio's contributing to fraud: \\n\"\n",
    "for i in sorted(coefficients_o.iteritems(), key=lambda (k, v): (-v, k)):\n",
    "    print i"
   ]
  },
  {
   "cell_type": "markdown",
   "metadata": {},
   "source": [
    "Based on the above-mentioned coefficients with odd ratio's that are greater than or equal to one:\n",
    "- People who send more emails to POI's, as descirted by 'to_poi_ratio', are ~94 times more likley to commit fraud;\n",
    "- People who exercise their stock options are ~12 times more likely to commit fraud; and\n",
    "- People with high expenses, total stock values, and salaries are ~7.7 times, ~6.7 times, and ~3.7 times more likely to commit fraud, respectively.\n",
    "\n",
    "Based on the above-mentioed coefficents with odd ratio's that are less than one, features like 'long_term_incentive', 'loan_advances' and 'defferred_income' decrease the chances of fraud.  For example, the chances of fraud decreases by ~77% with 'long_term_incentive'.  In other words, a person with long-term incentives in the company is probably less likely to commit fraud. "
   ]
  },
  {
   "cell_type": "markdown",
   "metadata": {
    "collapsed": true
   },
   "source": [
    "I then pickle the best model and final data set."
   ]
  },
  {
   "cell_type": "code",
   "execution_count": 55,
   "metadata": {
    "collapsed": false
   },
   "outputs": [],
   "source": [
    "features_list_fin = ['poi']+ features_list"
   ]
  },
  {
   "cell_type": "code",
   "execution_count": 56,
   "metadata": {
    "collapsed": false
   },
   "outputs": [],
   "source": [
    "with open('my_feature_list.pkl', 'wb') as f:\n",
    "    pickle.dump(features_list_fin, f)"
   ]
  },
  {
   "cell_type": "code",
   "execution_count": 57,
   "metadata": {
    "collapsed": false
   },
   "outputs": [],
   "source": [
    "with open('my_classifier.pkl', 'wb') as c:\n",
    "    pickle.dump(l_param_new, c)"
   ]
  },
  {
   "cell_type": "code",
   "execution_count": 58,
   "metadata": {
    "collapsed": false
   },
   "outputs": [],
   "source": [
    "cleaned_data[\"Employee\"] = cleaned_data.index\n",
    "\n",
    "cleaned_data.set_index(\"Employee\", drop=True, inplace=True)\n",
    "dictionary = cleaned_data.to_dict(orient = \"index\")"
   ]
  },
  {
   "cell_type": "code",
   "execution_count": 59,
   "metadata": {
    "collapsed": true
   },
   "outputs": [],
   "source": [
    "with open('my_dataset.pkl', 'wb') as d:\n",
    "    pickle.dump(dictionary, d)"
   ]
  },
  {
   "cell_type": "markdown",
   "metadata": {
    "collapsed": false
   },
   "source": [
    "# 6. Limitations"
   ]
  },
  {
   "cell_type": "markdown",
   "metadata": {
    "collapsed": true
   },
   "source": [
    "I impute the missing values with the medians of their respective features.  Imputing missing values based using the median could add bias to the data set, especially if the data set has idiosyncratic values.  Therefore, a more sophisticated method of imputation, such as building separate models to predict the values of these missing values, may be needed.  In addition, sklearn doesn't produce confidence intervals for the coefficients, so confidence intervals should be calculated and examined to assess the reliability of the odd ratio's in predicting fraud.  "
   ]
  },
  {
   "cell_type": "markdown",
   "metadata": {},
   "source": [
    "# 7. Sources"
   ]
  },
  {
   "cell_type": "markdown",
   "metadata": {},
   "source": [
    "http://seaborn.pydata.org  \n",
    "http://scikit-learn.org/stable/  \n",
    "http://stackoverflow.com/  \n",
    "http://www.theanalysisfactor.com/why-logistic-regression-for-binary-response/  \n",
    "http://stats.idre.ucla.edu/stata/faq/how-do-i-interpret-odds-ratios-in-logistic-regression/  \n",
    "http://machinelearningmastery.com/tactics-to-combat-imbalanced-classes-in-your-machine-learning-dataset/  \n",
    "http://gchang.people.ysu.edu/class/mph/note/08_11_LogisticRegression.pdf  \n",
    "https://www.civisanalytics.com/blog/  "
   ]
  }
 ],
 "metadata": {
  "kernelspec": {
   "display_name": "Python 2",
   "language": "python",
   "name": "python2"
  },
  "language_info": {
   "codemirror_mode": {
    "name": "ipython",
    "version": 2
   },
   "file_extension": ".py",
   "mimetype": "text/x-python",
   "name": "python",
   "nbconvert_exporter": "python",
   "pygments_lexer": "ipython2",
   "version": "2.7.13"
  }
 },
 "nbformat": 4,
 "nbformat_minor": 0
}
